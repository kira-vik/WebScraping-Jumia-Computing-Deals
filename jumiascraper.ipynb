{
 "cells": [
  {
   "cell_type": "code",
   "execution_count": 60,
   "metadata": {},
   "outputs": [],
   "source": [
    "# import dependencies\n",
    "\n",
    "from bs4 import BeautifulSoup\n",
    "import requests\n",
    "import pandas as pd"
   ]
  },
  {
   "cell_type": "code",
   "execution_count": 63,
   "metadata": {},
   "outputs": [],
   "source": [
    "computing_deals = [] # create empty list to hold data\n",
    "\n",
    "# loop through all the webpages listing computing deals products\n",
    "for i in range(1, 51):\n",
    "     \n",
    "     # set url of website to be scraped\n",
    "     SCRAPE_URL = f'https://www.jumia.co.ke/mlp-black-friday-h-computing-deals/?page={i}#catalog-listing'\n",
    "\n",
    "     # send GET request to specified url; parse the data retrieved\n",
    "     response = requests.get(SCRAPE_URL)\n",
    "     soup = BeautifulSoup(response.content, 'html.parser')\n",
    "     soup = BeautifulSoup(soup.prettify(), 'html.parser')\n",
    "\n",
    "\n",
    "     # DATA EXTRACTION BEGINS HERE:\n",
    "     # access all <article> tags with product data\n",
    "     articles = soup.find_all('article', class_ = 'prd')\n",
    "\n",
    "     # go through all <article> tags holding the data of interest\n",
    "     for article in articles:\n",
    "          \n",
    "          # get product title/description\n",
    "          prd_title = article.find('h3').text.strip()\n",
    "          \n",
    "          # get product current price; convert type to float\n",
    "          curr_price = article.find('div', class_ = 'prc').text.strip().split()[1]\n",
    "          curr_price = float(curr_price.replace(',', ''))\n",
    "          \n",
    "          \n",
    "          # get product old price; convert type to float\n",
    "          if article.find('div', class_ = 'old'):\n",
    "               old_price = article.find('div', class_ = 'old').text.strip().split()[1]\n",
    "               old_price = float(old_price.replace(',', ''))\n",
    "          else: # handle cases without recorded old price values\n",
    "               old_price = None\n",
    "          \n",
    "          \n",
    "          # get product discount rate\n",
    "          if article.find('div', class_ = '_dsct'):\n",
    "               discount = article.find('div', class_ = '_dsct').text.strip()\n",
    "               discount = abs(int(discount.replace('%', '')))\n",
    "          else: # handle cases without recorded discount values\n",
    "               discount = None\n",
    "          \n",
    "          \n",
    "          # get product star rating; convert type to float\n",
    "          if article.find('div', class_ = 'stars'):\n",
    "               star_rating = float(article.find('div', class_ = 'stars').text.strip().split()[0])\n",
    "          else: # handle cases without recorded star rating values\n",
    "               star_rating = None\n",
    "          \n",
    "          \n",
    "          # get count of verified ratings\n",
    "          if article.find('div', class_ = 'rev'):\n",
    "               verified_rating_count = int(article.find('div', class_ = 'rev').text.strip().split()[4][1:-1])\n",
    "          else: # handle cases without recorded verified rating count values\n",
    "               verified_rating_count = None\n",
    "          \n",
    "          \n",
    "          # populate the empty list with extracted data\n",
    "          computing_deals.append([prd_title, curr_price, old_price, discount, star_rating, verified_rating_count])"
   ]
  },
  {
   "cell_type": "code",
   "execution_count": null,
   "metadata": {},
   "outputs": [],
   "source": [
    "# check if list is populated correctly\n",
    "computing_deals"
   ]
  },
  {
   "cell_type": "code",
   "execution_count": null,
   "metadata": {},
   "outputs": [],
   "source": [
    "# create new pandas DataFrame\n",
    "# populate with data from computing_deals list\n",
    "df = pd.DataFrame(computing_deals, \n",
    "                  columns=['Product', 'Current Price', 'Old Price', 'Discount in %', 'Star Rating', 'Verified Rating Count'])\n",
    "\n",
    "df"
   ]
  },
  {
   "cell_type": "code",
   "execution_count": 59,
   "metadata": {},
   "outputs": [],
   "source": [
    "# save generated dataframe to csv file format\n",
    "df.to_csv('computing_deals.csv')"
   ]
  },
  {
   "cell_type": "code",
   "execution_count": null,
   "metadata": {},
   "outputs": [],
   "source": []
  }
 ],
 "metadata": {
  "kernelspec": {
   "display_name": "venv",
   "language": "python",
   "name": "python3"
  },
  "language_info": {
   "codemirror_mode": {
    "name": "ipython",
    "version": 3
   },
   "file_extension": ".py",
   "mimetype": "text/x-python",
   "name": "python",
   "nbconvert_exporter": "python",
   "pygments_lexer": "ipython3",
   "version": "3.11.0"
  }
 },
 "nbformat": 4,
 "nbformat_minor": 2
}
